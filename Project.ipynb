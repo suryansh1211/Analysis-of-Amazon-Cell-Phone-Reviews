{
  "nbformat": 4,
  "nbformat_minor": 0,
  "metadata": {
    "colab": {
      "name": "Project2.ipynb",
      "provenance": [],
      "collapsed_sections": []
    },
    "kernelspec": {
      "name": "python3",
      "display_name": "Python 3"
    }
  },
  "cells": [
    {
      "cell_type": "markdown",
      "metadata": {
        "id": "uk2UJiR9bfRf",
        "colab_type": "text"
      },
      "source": [
        "# Importing Libraries"
      ]
    },
    {
      "cell_type": "code",
      "metadata": {
        "id": "pZmVpf6UZ0Vx",
        "colab_type": "code",
        "colab": {
          "base_uri": "https://localhost:8080/",
          "height": 34
        },
        "outputId": "fd0fd6ca-dc6a-4362-cc7b-187412e1c6ae"
      },
      "source": [
        "import nltk\n",
        "import numpy as np\n",
        "import matplotlib.pyplot as plt\n",
        "import pandas as pd\n",
        "import re\n",
        "from sklearn.feature_extraction.text import CountVectorizer\n",
        "from sklearn.model_selection import train_test_split\n",
        "from sklearn import preprocessing\n",
        "import keras\n",
        "from keras.models import Sequential\n",
        "from keras.layers import Dense\n",
        "from keras.models import load_model\n",
        "import pickle"
      ],
      "execution_count": 1,
      "outputs": [
        {
          "output_type": "stream",
          "text": [
            "Using TensorFlow backend.\n"
          ],
          "name": "stderr"
        }
      ]
    },
    {
      "cell_type": "markdown",
      "metadata": {
        "id": "1kPOQW7_bmO0",
        "colab_type": "text"
      },
      "source": [
        "# Importing Dataset"
      ]
    },
    {
      "cell_type": "code",
      "metadata": {
        "id": "utOKDEQ_aK6g",
        "colab_type": "code",
        "colab": {}
      },
      "source": [
        "dataset = pd.read_csv('20191226-reviews.csv')\n",
        "items = pd.read_csv('20191226-items.csv')"
      ],
      "execution_count": 2,
      "outputs": []
    },
    {
      "cell_type": "code",
      "metadata": {
        "id": "Ur8-20iMeNT6",
        "colab_type": "code",
        "colab": {
          "base_uri": "https://localhost:8080/",
          "height": 623
        },
        "outputId": "da6093f1-7c06-46d8-c91b-24a405693c92"
      },
      "source": [
        "dataset"
      ],
      "execution_count": 3,
      "outputs": [
        {
          "output_type": "execute_result",
          "data": {
            "text/html": [
              "<div>\n",
              "<style scoped>\n",
              "    .dataframe tbody tr th:only-of-type {\n",
              "        vertical-align: middle;\n",
              "    }\n",
              "\n",
              "    .dataframe tbody tr th {\n",
              "        vertical-align: top;\n",
              "    }\n",
              "\n",
              "    .dataframe thead th {\n",
              "        text-align: right;\n",
              "    }\n",
              "</style>\n",
              "<table border=\"1\" class=\"dataframe\">\n",
              "  <thead>\n",
              "    <tr style=\"text-align: right;\">\n",
              "      <th></th>\n",
              "      <th>asin</th>\n",
              "      <th>name</th>\n",
              "      <th>rating</th>\n",
              "      <th>date</th>\n",
              "      <th>verified</th>\n",
              "      <th>title</th>\n",
              "      <th>body</th>\n",
              "      <th>helpfulVotes</th>\n",
              "    </tr>\n",
              "  </thead>\n",
              "  <tbody>\n",
              "    <tr>\n",
              "      <th>0</th>\n",
              "      <td>B0000SX2UC</td>\n",
              "      <td>Janet</td>\n",
              "      <td>3</td>\n",
              "      <td>October 11, 2005</td>\n",
              "      <td>False</td>\n",
              "      <td>Def not best, but not worst</td>\n",
              "      <td>I had the Samsung A600 for awhile which is abs...</td>\n",
              "      <td>1.0</td>\n",
              "    </tr>\n",
              "    <tr>\n",
              "      <th>1</th>\n",
              "      <td>B0000SX2UC</td>\n",
              "      <td>Luke Wyatt</td>\n",
              "      <td>1</td>\n",
              "      <td>January 7, 2004</td>\n",
              "      <td>False</td>\n",
              "      <td>Text Messaging Doesn't Work</td>\n",
              "      <td>Due to a software issue between Nokia and Spri...</td>\n",
              "      <td>17.0</td>\n",
              "    </tr>\n",
              "    <tr>\n",
              "      <th>2</th>\n",
              "      <td>B0000SX2UC</td>\n",
              "      <td>Brooke</td>\n",
              "      <td>5</td>\n",
              "      <td>December 30, 2003</td>\n",
              "      <td>False</td>\n",
              "      <td>Love This Phone</td>\n",
              "      <td>This is a great, reliable phone. I also purcha...</td>\n",
              "      <td>5.0</td>\n",
              "    </tr>\n",
              "    <tr>\n",
              "      <th>3</th>\n",
              "      <td>B0000SX2UC</td>\n",
              "      <td>amy m. teague</td>\n",
              "      <td>3</td>\n",
              "      <td>March 18, 2004</td>\n",
              "      <td>False</td>\n",
              "      <td>Love the Phone, BUT...!</td>\n",
              "      <td>I love the phone and all, because I really did...</td>\n",
              "      <td>1.0</td>\n",
              "    </tr>\n",
              "    <tr>\n",
              "      <th>4</th>\n",
              "      <td>B0000SX2UC</td>\n",
              "      <td>tristazbimmer</td>\n",
              "      <td>4</td>\n",
              "      <td>August 28, 2005</td>\n",
              "      <td>False</td>\n",
              "      <td>Great phone service and options, lousy case!</td>\n",
              "      <td>The phone has been great for every purpose it ...</td>\n",
              "      <td>1.0</td>\n",
              "    </tr>\n",
              "    <tr>\n",
              "      <th>...</th>\n",
              "      <td>...</td>\n",
              "      <td>...</td>\n",
              "      <td>...</td>\n",
              "      <td>...</td>\n",
              "      <td>...</td>\n",
              "      <td>...</td>\n",
              "      <td>...</td>\n",
              "      <td>...</td>\n",
              "    </tr>\n",
              "    <tr>\n",
              "      <th>67981</th>\n",
              "      <td>B081H6STQQ</td>\n",
              "      <td>jande</td>\n",
              "      <td>5</td>\n",
              "      <td>August 16, 2019</td>\n",
              "      <td>False</td>\n",
              "      <td>Awesome Phone, but finger scanner is a big mis...</td>\n",
              "      <td>I love the camera on this phone. The screen is...</td>\n",
              "      <td>1.0</td>\n",
              "    </tr>\n",
              "    <tr>\n",
              "      <th>67982</th>\n",
              "      <td>B081H6STQQ</td>\n",
              "      <td>2cool4u</td>\n",
              "      <td>5</td>\n",
              "      <td>September 14, 2019</td>\n",
              "      <td>False</td>\n",
              "      <td>Simply Amazing!</td>\n",
              "      <td>I've been an Xperia user for several years and...</td>\n",
              "      <td>1.0</td>\n",
              "    </tr>\n",
              "    <tr>\n",
              "      <th>67983</th>\n",
              "      <td>B081H6STQQ</td>\n",
              "      <td>simon</td>\n",
              "      <td>5</td>\n",
              "      <td>July 14, 2019</td>\n",
              "      <td>False</td>\n",
              "      <td>great phon3, but many bugs need to fix. still ...</td>\n",
              "      <td>buy one more for my cousin</td>\n",
              "      <td>NaN</td>\n",
              "    </tr>\n",
              "    <tr>\n",
              "      <th>67984</th>\n",
              "      <td>B081TJFVCJ</td>\n",
              "      <td>Tobiasz Jedrysiak</td>\n",
              "      <td>5</td>\n",
              "      <td>December 24, 2019</td>\n",
              "      <td>True</td>\n",
              "      <td>Phone is like new</td>\n",
              "      <td>Product looks and works like new. Very much re...</td>\n",
              "      <td>NaN</td>\n",
              "    </tr>\n",
              "    <tr>\n",
              "      <th>67985</th>\n",
              "      <td>B0825BB7SG</td>\n",
              "      <td>Owen Gonzalez</td>\n",
              "      <td>5</td>\n",
              "      <td>December 11, 2019</td>\n",
              "      <td>False</td>\n",
              "      <td>Outstanding phone for the price</td>\n",
              "      <td>I love the size and style of this phone. It is...</td>\n",
              "      <td>NaN</td>\n",
              "    </tr>\n",
              "  </tbody>\n",
              "</table>\n",
              "<p>67986 rows × 8 columns</p>\n",
              "</div>"
            ],
            "text/plain": [
              "             asin  ... helpfulVotes\n",
              "0      B0000SX2UC  ...          1.0\n",
              "1      B0000SX2UC  ...         17.0\n",
              "2      B0000SX2UC  ...          5.0\n",
              "3      B0000SX2UC  ...          1.0\n",
              "4      B0000SX2UC  ...          1.0\n",
              "...           ...  ...          ...\n",
              "67981  B081H6STQQ  ...          1.0\n",
              "67982  B081H6STQQ  ...          1.0\n",
              "67983  B081H6STQQ  ...          NaN\n",
              "67984  B081TJFVCJ  ...          NaN\n",
              "67985  B0825BB7SG  ...          NaN\n",
              "\n",
              "[67986 rows x 8 columns]"
            ]
          },
          "metadata": {
            "tags": []
          },
          "execution_count": 3
        }
      ]
    },
    {
      "cell_type": "code",
      "metadata": {
        "id": "1Y8VmbwFejB4",
        "colab_type": "code",
        "colab": {}
      },
      "source": [
        "dataset.drop(columns=['asin', 'name' , 'date' , 'verified' , 'helpfulVotes' ] , inplace = True) "
      ],
      "execution_count": 4,
      "outputs": []
    },
    {
      "cell_type": "code",
      "metadata": {
        "id": "zC_irjiUemzb",
        "colab_type": "code",
        "colab": {
          "base_uri": "https://localhost:8080/",
          "height": 419
        },
        "outputId": "a70a3c86-2826-40ef-cf0d-f853f9e43436"
      },
      "source": [
        "dataset"
      ],
      "execution_count": 5,
      "outputs": [
        {
          "output_type": "execute_result",
          "data": {
            "text/html": [
              "<div>\n",
              "<style scoped>\n",
              "    .dataframe tbody tr th:only-of-type {\n",
              "        vertical-align: middle;\n",
              "    }\n",
              "\n",
              "    .dataframe tbody tr th {\n",
              "        vertical-align: top;\n",
              "    }\n",
              "\n",
              "    .dataframe thead th {\n",
              "        text-align: right;\n",
              "    }\n",
              "</style>\n",
              "<table border=\"1\" class=\"dataframe\">\n",
              "  <thead>\n",
              "    <tr style=\"text-align: right;\">\n",
              "      <th></th>\n",
              "      <th>rating</th>\n",
              "      <th>title</th>\n",
              "      <th>body</th>\n",
              "    </tr>\n",
              "  </thead>\n",
              "  <tbody>\n",
              "    <tr>\n",
              "      <th>0</th>\n",
              "      <td>3</td>\n",
              "      <td>Def not best, but not worst</td>\n",
              "      <td>I had the Samsung A600 for awhile which is abs...</td>\n",
              "    </tr>\n",
              "    <tr>\n",
              "      <th>1</th>\n",
              "      <td>1</td>\n",
              "      <td>Text Messaging Doesn't Work</td>\n",
              "      <td>Due to a software issue between Nokia and Spri...</td>\n",
              "    </tr>\n",
              "    <tr>\n",
              "      <th>2</th>\n",
              "      <td>5</td>\n",
              "      <td>Love This Phone</td>\n",
              "      <td>This is a great, reliable phone. I also purcha...</td>\n",
              "    </tr>\n",
              "    <tr>\n",
              "      <th>3</th>\n",
              "      <td>3</td>\n",
              "      <td>Love the Phone, BUT...!</td>\n",
              "      <td>I love the phone and all, because I really did...</td>\n",
              "    </tr>\n",
              "    <tr>\n",
              "      <th>4</th>\n",
              "      <td>4</td>\n",
              "      <td>Great phone service and options, lousy case!</td>\n",
              "      <td>The phone has been great for every purpose it ...</td>\n",
              "    </tr>\n",
              "    <tr>\n",
              "      <th>...</th>\n",
              "      <td>...</td>\n",
              "      <td>...</td>\n",
              "      <td>...</td>\n",
              "    </tr>\n",
              "    <tr>\n",
              "      <th>67981</th>\n",
              "      <td>5</td>\n",
              "      <td>Awesome Phone, but finger scanner is a big mis...</td>\n",
              "      <td>I love the camera on this phone. The screen is...</td>\n",
              "    </tr>\n",
              "    <tr>\n",
              "      <th>67982</th>\n",
              "      <td>5</td>\n",
              "      <td>Simply Amazing!</td>\n",
              "      <td>I've been an Xperia user for several years and...</td>\n",
              "    </tr>\n",
              "    <tr>\n",
              "      <th>67983</th>\n",
              "      <td>5</td>\n",
              "      <td>great phon3, but many bugs need to fix. still ...</td>\n",
              "      <td>buy one more for my cousin</td>\n",
              "    </tr>\n",
              "    <tr>\n",
              "      <th>67984</th>\n",
              "      <td>5</td>\n",
              "      <td>Phone is like new</td>\n",
              "      <td>Product looks and works like new. Very much re...</td>\n",
              "    </tr>\n",
              "    <tr>\n",
              "      <th>67985</th>\n",
              "      <td>5</td>\n",
              "      <td>Outstanding phone for the price</td>\n",
              "      <td>I love the size and style of this phone. It is...</td>\n",
              "    </tr>\n",
              "  </tbody>\n",
              "</table>\n",
              "<p>67986 rows × 3 columns</p>\n",
              "</div>"
            ],
            "text/plain": [
              "       rating  ...                                               body\n",
              "0           3  ...  I had the Samsung A600 for awhile which is abs...\n",
              "1           1  ...  Due to a software issue between Nokia and Spri...\n",
              "2           5  ...  This is a great, reliable phone. I also purcha...\n",
              "3           3  ...  I love the phone and all, because I really did...\n",
              "4           4  ...  The phone has been great for every purpose it ...\n",
              "...       ...  ...                                                ...\n",
              "67981       5  ...  I love the camera on this phone. The screen is...\n",
              "67982       5  ...  I've been an Xperia user for several years and...\n",
              "67983       5  ...                         buy one more for my cousin\n",
              "67984       5  ...  Product looks and works like new. Very much re...\n",
              "67985       5  ...  I love the size and style of this phone. It is...\n",
              "\n",
              "[67986 rows x 3 columns]"
            ]
          },
          "metadata": {
            "tags": []
          },
          "execution_count": 5
        }
      ]
    },
    {
      "cell_type": "code",
      "metadata": {
        "id": "iQ1AFm9Jeqa9",
        "colab_type": "code",
        "colab": {}
      },
      "source": [
        "dataset['sentiment'] = dataset['rating'].apply(lambda rating : +1 if rating > 3 else 0)"
      ],
      "execution_count": 6,
      "outputs": []
    },
    {
      "cell_type": "code",
      "metadata": {
        "id": "eyrvlv4DezIm",
        "colab_type": "code",
        "colab": {
          "base_uri": "https://localhost:8080/",
          "height": 419
        },
        "outputId": "bb7bcd72-94bf-469e-8fd6-6ba6d5e39035"
      },
      "source": [
        "dataset"
      ],
      "execution_count": 7,
      "outputs": [
        {
          "output_type": "execute_result",
          "data": {
            "text/html": [
              "<div>\n",
              "<style scoped>\n",
              "    .dataframe tbody tr th:only-of-type {\n",
              "        vertical-align: middle;\n",
              "    }\n",
              "\n",
              "    .dataframe tbody tr th {\n",
              "        vertical-align: top;\n",
              "    }\n",
              "\n",
              "    .dataframe thead th {\n",
              "        text-align: right;\n",
              "    }\n",
              "</style>\n",
              "<table border=\"1\" class=\"dataframe\">\n",
              "  <thead>\n",
              "    <tr style=\"text-align: right;\">\n",
              "      <th></th>\n",
              "      <th>rating</th>\n",
              "      <th>title</th>\n",
              "      <th>body</th>\n",
              "      <th>sentiment</th>\n",
              "    </tr>\n",
              "  </thead>\n",
              "  <tbody>\n",
              "    <tr>\n",
              "      <th>0</th>\n",
              "      <td>3</td>\n",
              "      <td>Def not best, but not worst</td>\n",
              "      <td>I had the Samsung A600 for awhile which is abs...</td>\n",
              "      <td>0</td>\n",
              "    </tr>\n",
              "    <tr>\n",
              "      <th>1</th>\n",
              "      <td>1</td>\n",
              "      <td>Text Messaging Doesn't Work</td>\n",
              "      <td>Due to a software issue between Nokia and Spri...</td>\n",
              "      <td>0</td>\n",
              "    </tr>\n",
              "    <tr>\n",
              "      <th>2</th>\n",
              "      <td>5</td>\n",
              "      <td>Love This Phone</td>\n",
              "      <td>This is a great, reliable phone. I also purcha...</td>\n",
              "      <td>1</td>\n",
              "    </tr>\n",
              "    <tr>\n",
              "      <th>3</th>\n",
              "      <td>3</td>\n",
              "      <td>Love the Phone, BUT...!</td>\n",
              "      <td>I love the phone and all, because I really did...</td>\n",
              "      <td>0</td>\n",
              "    </tr>\n",
              "    <tr>\n",
              "      <th>4</th>\n",
              "      <td>4</td>\n",
              "      <td>Great phone service and options, lousy case!</td>\n",
              "      <td>The phone has been great for every purpose it ...</td>\n",
              "      <td>1</td>\n",
              "    </tr>\n",
              "    <tr>\n",
              "      <th>...</th>\n",
              "      <td>...</td>\n",
              "      <td>...</td>\n",
              "      <td>...</td>\n",
              "      <td>...</td>\n",
              "    </tr>\n",
              "    <tr>\n",
              "      <th>67981</th>\n",
              "      <td>5</td>\n",
              "      <td>Awesome Phone, but finger scanner is a big mis...</td>\n",
              "      <td>I love the camera on this phone. The screen is...</td>\n",
              "      <td>1</td>\n",
              "    </tr>\n",
              "    <tr>\n",
              "      <th>67982</th>\n",
              "      <td>5</td>\n",
              "      <td>Simply Amazing!</td>\n",
              "      <td>I've been an Xperia user for several years and...</td>\n",
              "      <td>1</td>\n",
              "    </tr>\n",
              "    <tr>\n",
              "      <th>67983</th>\n",
              "      <td>5</td>\n",
              "      <td>great phon3, but many bugs need to fix. still ...</td>\n",
              "      <td>buy one more for my cousin</td>\n",
              "      <td>1</td>\n",
              "    </tr>\n",
              "    <tr>\n",
              "      <th>67984</th>\n",
              "      <td>5</td>\n",
              "      <td>Phone is like new</td>\n",
              "      <td>Product looks and works like new. Very much re...</td>\n",
              "      <td>1</td>\n",
              "    </tr>\n",
              "    <tr>\n",
              "      <th>67985</th>\n",
              "      <td>5</td>\n",
              "      <td>Outstanding phone for the price</td>\n",
              "      <td>I love the size and style of this phone. It is...</td>\n",
              "      <td>1</td>\n",
              "    </tr>\n",
              "  </tbody>\n",
              "</table>\n",
              "<p>67986 rows × 4 columns</p>\n",
              "</div>"
            ],
            "text/plain": [
              "       rating  ... sentiment\n",
              "0           3  ...         0\n",
              "1           1  ...         0\n",
              "2           5  ...         1\n",
              "3           3  ...         0\n",
              "4           4  ...         1\n",
              "...       ...  ...       ...\n",
              "67981       5  ...         1\n",
              "67982       5  ...         1\n",
              "67983       5  ...         1\n",
              "67984       5  ...         1\n",
              "67985       5  ...         1\n",
              "\n",
              "[67986 rows x 4 columns]"
            ]
          },
          "metadata": {
            "tags": []
          },
          "execution_count": 7
        }
      ]
    },
    {
      "cell_type": "code",
      "metadata": {
        "id": "1--QQ6DdfAyH",
        "colab_type": "code",
        "colab": {
          "base_uri": "https://localhost:8080/",
          "height": 102
        },
        "outputId": "dd745bd4-8c92-4dd7-b115-9222356fce22"
      },
      "source": [
        "dataset.isnull().any()"
      ],
      "execution_count": 8,
      "outputs": [
        {
          "output_type": "execute_result",
          "data": {
            "text/plain": [
              "rating       False\n",
              "title         True\n",
              "body          True\n",
              "sentiment    False\n",
              "dtype: bool"
            ]
          },
          "metadata": {
            "tags": []
          },
          "execution_count": 8
        }
      ]
    },
    {
      "cell_type": "code",
      "metadata": {
        "id": "GE13e_qsfIt7",
        "colab_type": "code",
        "colab": {}
      },
      "source": [
        "dataset[\"title\"].fillna(dataset[\"title\"].mode()[0] , inplace = True)\n",
        "dataset[\"body\"].fillna(dataset[\"body\"].mode()[0] , inplace = True)"
      ],
      "execution_count": 9,
      "outputs": []
    },
    {
      "cell_type": "code",
      "metadata": {
        "id": "TXOfEIQyfVsl",
        "colab_type": "code",
        "colab": {
          "base_uri": "https://localhost:8080/",
          "height": 102
        },
        "outputId": "2ee6d34b-a66c-4952-82c3-32643471e31e"
      },
      "source": [
        "dataset.isnull().any()"
      ],
      "execution_count": 10,
      "outputs": [
        {
          "output_type": "execute_result",
          "data": {
            "text/plain": [
              "rating       False\n",
              "title        False\n",
              "body         False\n",
              "sentiment    False\n",
              "dtype: bool"
            ]
          },
          "metadata": {
            "tags": []
          },
          "execution_count": 10
        }
      ]
    },
    {
      "cell_type": "markdown",
      "metadata": {
        "id": "gQ3UhThdbsI6",
        "colab_type": "text"
      },
      "source": [
        "# Text Cleaning or Preprocessing"
      ]
    },
    {
      "cell_type": "code",
      "metadata": {
        "id": "1RVisqhyfaM0",
        "colab_type": "code",
        "colab": {
          "base_uri": "https://localhost:8080/",
          "height": 51
        },
        "outputId": "7797a708-11f3-42a8-e294-622123992a2c"
      },
      "source": [
        "nltk.download(\"stopwords\")\n",
        "from nltk.corpus import stopwords\n",
        "from nltk.stem.porter import PorterStemmer\n",
        "ps = PorterStemmer()\n",
        "review = []"
      ],
      "execution_count": 11,
      "outputs": [
        {
          "output_type": "stream",
          "text": [
            "[nltk_data] Downloading package stopwords to /root/nltk_data...\n",
            "[nltk_data]   Package stopwords is already up-to-date!\n"
          ],
          "name": "stdout"
        }
      ]
    },
    {
      "cell_type": "code",
      "metadata": {
        "id": "DQZsjBoxfsDr",
        "colab_type": "code",
        "colab": {
          "base_uri": "https://localhost:8080/",
          "height": 34
        },
        "outputId": "7bc983bc-b70b-4325-86f9-21a68c3acb01"
      },
      "source": [
        "len(dataset)"
      ],
      "execution_count": 12,
      "outputs": [
        {
          "output_type": "execute_result",
          "data": {
            "text/plain": [
              "67986"
            ]
          },
          "metadata": {
            "tags": []
          },
          "execution_count": 12
        }
      ]
    },
    {
      "cell_type": "markdown",
      "metadata": {
        "id": "-ZiwIuxnb4Q2",
        "colab_type": "text"
      },
      "source": [
        "# Remove Punctuations & Numbers and Stemming"
      ]
    },
    {
      "cell_type": "code",
      "metadata": {
        "id": "iluDCwamf8t6",
        "colab_type": "code",
        "colab": {}
      },
      "source": [
        "for i in range(len(dataset)):\n",
        "    data = dataset[\"title\"][i]\n",
        "    data = re.sub('[^a-zA-Z]', ' ',data)\n",
        "    data = data.lower()\n",
        "    data = data.split()\n",
        "    data = [ps.stem(word) for word in data if not word in set(stopwords.words('english'))]\n",
        "    data = ' '.join(data)\n",
        "    review.append(data)"
      ],
      "execution_count": 13,
      "outputs": []
    },
    {
      "cell_type": "markdown",
      "metadata": {
        "id": "GsXzzvM2cIce",
        "colab_type": "text"
      },
      "source": [
        "# Creating Dependent Variables"
      ]
    },
    {
      "cell_type": "code",
      "metadata": {
        "id": "MDK2BRoKgvdA",
        "colab_type": "code",
        "colab": {}
      },
      "source": [
        "cv = CountVectorizer(max_features = 3000)\n",
        "x = cv.fit_transform(review).toarray()\n",
        "y = dataset.iloc[:,3:4].values"
      ],
      "execution_count": 14,
      "outputs": []
    },
    {
      "cell_type": "markdown",
      "metadata": {
        "id": "CEAspstOcc8f",
        "colab_type": "text"
      },
      "source": [
        "# Splitting Data into Training and Test set"
      ]
    },
    {
      "cell_type": "code",
      "metadata": {
        "id": "XINPZDmkiFdD",
        "colab_type": "code",
        "colab": {}
      },
      "source": [
        "x_train,x_test,y_train,y_test = train_test_split(x,y,random_state = 0,test_size = 0.2)"
      ],
      "execution_count": 15,
      "outputs": []
    },
    {
      "cell_type": "code",
      "metadata": {
        "id": "MPnwDk9ciPem",
        "colab_type": "code",
        "colab": {
          "base_uri": "https://localhost:8080/",
          "height": 34
        },
        "outputId": "6a35c27d-0354-4e24-a1c3-fda317c33976"
      },
      "source": [
        "x_train.shape"
      ],
      "execution_count": 16,
      "outputs": [
        {
          "output_type": "execute_result",
          "data": {
            "text/plain": [
              "(54388, 3000)"
            ]
          },
          "metadata": {
            "tags": []
          },
          "execution_count": 16
        }
      ]
    },
    {
      "cell_type": "code",
      "metadata": {
        "id": "ZYkNRFnViS0y",
        "colab_type": "code",
        "colab": {
          "base_uri": "https://localhost:8080/",
          "height": 34
        },
        "outputId": "5a0f0bef-3aa3-47c3-a7a5-34681b0a0716"
      },
      "source": [
        "x_test.shape"
      ],
      "execution_count": 17,
      "outputs": [
        {
          "output_type": "execute_result",
          "data": {
            "text/plain": [
              "(13598, 3000)"
            ]
          },
          "metadata": {
            "tags": []
          },
          "execution_count": 17
        }
      ]
    },
    {
      "cell_type": "code",
      "metadata": {
        "id": "y8tG7plKiWwo",
        "colab_type": "code",
        "colab": {
          "base_uri": "https://localhost:8080/",
          "height": 34
        },
        "outputId": "3607ce87-2386-4bd0-fc3b-491511a4a5ae"
      },
      "source": [
        "y_train.shape"
      ],
      "execution_count": 18,
      "outputs": [
        {
          "output_type": "execute_result",
          "data": {
            "text/plain": [
              "(54388, 1)"
            ]
          },
          "metadata": {
            "tags": []
          },
          "execution_count": 18
        }
      ]
    },
    {
      "cell_type": "code",
      "metadata": {
        "id": "C24Vcb9hiYfo",
        "colab_type": "code",
        "colab": {
          "base_uri": "https://localhost:8080/",
          "height": 34
        },
        "outputId": "74538147-21ec-4872-e09f-eac0b2837eb6"
      },
      "source": [
        "y_test.shape"
      ],
      "execution_count": 19,
      "outputs": [
        {
          "output_type": "execute_result",
          "data": {
            "text/plain": [
              "(13598, 1)"
            ]
          },
          "metadata": {
            "tags": []
          },
          "execution_count": 19
        }
      ]
    },
    {
      "cell_type": "markdown",
      "metadata": {
        "id": "QGA33MjociKr",
        "colab_type": "text"
      },
      "source": [
        "# Initializing the model"
      ]
    },
    {
      "cell_type": "code",
      "metadata": {
        "id": "INIHBq2ziZ0J",
        "colab_type": "code",
        "colab": {}
      },
      "source": [
        "model = Sequential()"
      ],
      "execution_count": 20,
      "outputs": []
    },
    {
      "cell_type": "markdown",
      "metadata": {
        "id": "n_qTEJgqclOZ",
        "colab_type": "text"
      },
      "source": [
        "# Adding Input Layer"
      ]
    },
    {
      "cell_type": "code",
      "metadata": {
        "id": "IlWP0Xzwiidk",
        "colab_type": "code",
        "colab": {}
      },
      "source": [
        "model.add(Dense(units = 3000, activation = \"relu\", kernel_initializer = \"random_uniform\"))"
      ],
      "execution_count": 21,
      "outputs": []
    },
    {
      "cell_type": "markdown",
      "metadata": {
        "id": "GJhTOTqUcqS7",
        "colab_type": "text"
      },
      "source": [
        "# Adding Hidden Layer"
      ]
    },
    {
      "cell_type": "code",
      "metadata": {
        "id": "4ZI90PymiwGX",
        "colab_type": "code",
        "colab": {}
      },
      "source": [
        "model.add(Dense(units = 4500, activation = \"relu\", kernel_initializer = \"random_uniform\"))"
      ],
      "execution_count": 22,
      "outputs": []
    },
    {
      "cell_type": "markdown",
      "metadata": {
        "id": "ONFzQtDPctin",
        "colab_type": "text"
      },
      "source": [
        "# Adding Output Layer"
      ]
    },
    {
      "cell_type": "code",
      "metadata": {
        "id": "RiCOc5_vjL-D",
        "colab_type": "code",
        "colab": {}
      },
      "source": [
        "model.add(Dense(units = 1, activation = \"sigmoid\", kernel_initializer = \"random_uniform\"))"
      ],
      "execution_count": 23,
      "outputs": []
    },
    {
      "cell_type": "markdown",
      "metadata": {
        "id": "qPSfRPHZcxo5",
        "colab_type": "text"
      },
      "source": [
        "# Configuring the learning process"
      ]
    },
    {
      "cell_type": "code",
      "metadata": {
        "id": "6dfRzOFPjWL4",
        "colab_type": "code",
        "colab": {}
      },
      "source": [
        "model.compile(optimizer = \"adam\", loss = \"binary_crossentropy\", metrics = [\"accuracy\"])"
      ],
      "execution_count": 24,
      "outputs": []
    },
    {
      "cell_type": "markdown",
      "metadata": {
        "id": "o5RovXg0c08j",
        "colab_type": "text"
      },
      "source": [
        "# : Training the model"
      ]
    },
    {
      "cell_type": "code",
      "metadata": {
        "id": "ko-auQtVjeHA",
        "colab_type": "code",
        "colab": {
          "base_uri": "https://localhost:8080/",
          "height": 714
        },
        "outputId": "0296d3d2-9248-4601-dc15-9e5a665a922c"
      },
      "source": [
        "model.fit(x_train, y_train, epochs = 20, batch_size = 32)"
      ],
      "execution_count": 25,
      "outputs": [
        {
          "output_type": "stream",
          "text": [
            "Epoch 1/20\n",
            "54388/54388 [==============================] - 306s 6ms/step - loss: 0.3439 - accuracy: 0.8498\n",
            "Epoch 2/20\n",
            "54388/54388 [==============================] - 308s 6ms/step - loss: 0.2664 - accuracy: 0.8880\n",
            "Epoch 3/20\n",
            "54388/54388 [==============================] - 308s 6ms/step - loss: 0.2026 - accuracy: 0.9189\n",
            "Epoch 4/20\n",
            "54388/54388 [==============================] - 310s 6ms/step - loss: 0.1590 - accuracy: 0.9369\n",
            "Epoch 5/20\n",
            "54388/54388 [==============================] - 306s 6ms/step - loss: 0.1366 - accuracy: 0.9472\n",
            "Epoch 6/20\n",
            "54388/54388 [==============================] - 305s 6ms/step - loss: 0.1266 - accuracy: 0.9504\n",
            "Epoch 7/20\n",
            "54388/54388 [==============================] - 306s 6ms/step - loss: 0.1206 - accuracy: 0.9522\n",
            "Epoch 8/20\n",
            "54388/54388 [==============================] - 307s 6ms/step - loss: 0.1164 - accuracy: 0.9525\n",
            "Epoch 9/20\n",
            "54388/54388 [==============================] - 304s 6ms/step - loss: 0.1135 - accuracy: 0.9544\n",
            "Epoch 10/20\n",
            "54388/54388 [==============================] - 307s 6ms/step - loss: 0.1115 - accuracy: 0.9552\n",
            "Epoch 11/20\n",
            "54388/54388 [==============================] - 306s 6ms/step - loss: 0.1078 - accuracy: 0.9554\n",
            "Epoch 12/20\n",
            "54388/54388 [==============================] - 308s 6ms/step - loss: 0.1079 - accuracy: 0.9557\n",
            "Epoch 13/20\n",
            "54388/54388 [==============================] - 306s 6ms/step - loss: 0.1084 - accuracy: 0.9561\n",
            "Epoch 14/20\n",
            "54388/54388 [==============================] - 307s 6ms/step - loss: 0.1066 - accuracy: 0.9563\n",
            "Epoch 15/20\n",
            "54388/54388 [==============================] - 306s 6ms/step - loss: 0.1060 - accuracy: 0.9561\n",
            "Epoch 16/20\n",
            "54388/54388 [==============================] - 307s 6ms/step - loss: 0.1040 - accuracy: 0.9566\n",
            "Epoch 17/20\n",
            "54388/54388 [==============================] - 306s 6ms/step - loss: 0.1029 - accuracy: 0.9571\n",
            "Epoch 18/20\n",
            "54388/54388 [==============================] - 306s 6ms/step - loss: 0.1041 - accuracy: 0.9568\n",
            "Epoch 19/20\n",
            "54388/54388 [==============================] - 306s 6ms/step - loss: 0.1069 - accuracy: 0.9565\n",
            "Epoch 20/20\n",
            "54388/54388 [==============================] - 309s 6ms/step - loss: 0.1023 - accuracy: 0.9572\n"
          ],
          "name": "stdout"
        },
        {
          "output_type": "execute_result",
          "data": {
            "text/plain": [
              "<keras.callbacks.callbacks.History at 0x7ff55709b9e8>"
            ]
          },
          "metadata": {
            "tags": []
          },
          "execution_count": 25
        }
      ]
    },
    {
      "cell_type": "markdown",
      "metadata": {
        "id": "eprX-r-8c5c3",
        "colab_type": "text"
      },
      "source": [
        "# Saving Model"
      ]
    },
    {
      "cell_type": "code",
      "metadata": {
        "id": "Sl0eDnuQkECD",
        "colab_type": "code",
        "colab": {}
      },
      "source": [
        "model.save('project.h5')"
      ],
      "execution_count": 26,
      "outputs": []
    },
    {
      "cell_type": "markdown",
      "metadata": {
        "id": "zO9K5VdzdBrG",
        "colab_type": "text"
      },
      "source": [
        "# Prediction"
      ]
    },
    {
      "cell_type": "code",
      "metadata": {
        "id": "s2r0TK4WT84l",
        "colab_type": "code",
        "colab": {}
      },
      "source": [
        "model = load_model('project.h5')"
      ],
      "execution_count": 27,
      "outputs": []
    },
    {
      "cell_type": "code",
      "metadata": {
        "id": "yXfVMLtrUBn0",
        "colab_type": "code",
        "colab": {}
      },
      "source": [
        "with open('CountVectorizer','wb') as file:\n",
        "    pickle.dump(cv,file)"
      ],
      "execution_count": 29,
      "outputs": []
    },
    {
      "cell_type": "code",
      "metadata": {
        "id": "oQ-ITgkCUP9M",
        "colab_type": "code",
        "colab": {}
      },
      "source": [
        "entered_input = \"It is a very bad product\""
      ],
      "execution_count": 33,
      "outputs": []
    },
    {
      "cell_type": "code",
      "metadata": {
        "id": "jonuo4dOUxdw",
        "colab_type": "code",
        "colab": {
          "base_uri": "https://localhost:8080/",
          "height": 34
        },
        "outputId": "3eec1e2b-9ed9-4dfe-b888-bdd65b9bafed"
      },
      "source": [
        "x_intent = cv.transform([entered_input])\n",
        "y_pred = model.predict(x_intent)\n",
        "if (y_pred>0.5):\n",
        "  print(\"It is a positive review\")\n",
        "else:\n",
        "  print(\"It is a negative review\")"
      ],
      "execution_count": 34,
      "outputs": [
        {
          "output_type": "stream",
          "text": [
            "It is a negative review\n"
          ],
          "name": "stdout"
        }
      ]
    },
    {
      "cell_type": "code",
      "metadata": {
        "id": "tlSLiwa5VHoC",
        "colab_type": "code",
        "colab": {}
      },
      "source": [
        "entered_input = \"It is a bad product\""
      ],
      "execution_count": 35,
      "outputs": []
    },
    {
      "cell_type": "code",
      "metadata": {
        "id": "7ELw_loMaUmJ",
        "colab_type": "code",
        "colab": {
          "base_uri": "https://localhost:8080/",
          "height": 34
        },
        "outputId": "ca0f32a8-27c0-44dd-8e04-21d794ca5df7"
      },
      "source": [
        "x_intent = cv.transform([entered_input])\n",
        "y_pred = model.predict(x_intent)\n",
        "if (y_pred>0.5):\n",
        "  print(\"It is a positive review\")\n",
        "else:\n",
        "  print(\"It is a negative review\")"
      ],
      "execution_count": 36,
      "outputs": [
        {
          "output_type": "stream",
          "text": [
            "It is a negative review\n"
          ],
          "name": "stdout"
        }
      ]
    },
    {
      "cell_type": "code",
      "metadata": {
        "id": "jf8-lq7OaW1n",
        "colab_type": "code",
        "colab": {}
      },
      "source": [
        "entered_input = \"It is a very good product\""
      ],
      "execution_count": 37,
      "outputs": []
    },
    {
      "cell_type": "code",
      "metadata": {
        "id": "iNDgPrlwaat7",
        "colab_type": "code",
        "colab": {
          "base_uri": "https://localhost:8080/",
          "height": 34
        },
        "outputId": "79ef339f-96ff-41bc-d30e-4a3da5baabe1"
      },
      "source": [
        "x_intent = cv.transform([entered_input])\n",
        "y_pred = model.predict(x_intent)\n",
        "if (y_pred>0.5):\n",
        "  print(\"It is a positive review\")\n",
        "else:\n",
        "  print(\"It is a negative review\")"
      ],
      "execution_count": 38,
      "outputs": [
        {
          "output_type": "stream",
          "text": [
            "It is a positive review\n"
          ],
          "name": "stdout"
        }
      ]
    },
    {
      "cell_type": "code",
      "metadata": {
        "id": "esOsJUokacpV",
        "colab_type": "code",
        "colab": {}
      },
      "source": [
        "entered_input = \"Awesome product\""
      ],
      "execution_count": 39,
      "outputs": []
    },
    {
      "cell_type": "code",
      "metadata": {
        "id": "bu9Yi9K0agW_",
        "colab_type": "code",
        "colab": {
          "base_uri": "https://localhost:8080/",
          "height": 34
        },
        "outputId": "408b44e7-70a7-4a19-d353-15847e7a28fc"
      },
      "source": [
        "x_intent = cv.transform([entered_input])\n",
        "y_pred = model.predict(x_intent)\n",
        "if (y_pred>0.5):\n",
        "  print(\"It is a positive review\")\n",
        "else:\n",
        "  print(\"It is a negative review\")"
      ],
      "execution_count": 40,
      "outputs": [
        {
          "output_type": "stream",
          "text": [
            "It is a positive review\n"
          ],
          "name": "stdout"
        }
      ]
    }
  ]
}